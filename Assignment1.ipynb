{
  "nbformat": 4,
  "nbformat_minor": 0,
  "metadata": {
    "colab": {
      "provenance": [],
      "authorship_tag": "ABX9TyO8ifYYoLUuNIYgD00sXESi",
      "include_colab_link": true
    },
    "kernelspec": {
      "name": "python3",
      "display_name": "Python 3"
    },
    "language_info": {
      "name": "python"
    }
  },
  "cells": [
    {
      "cell_type": "markdown",
      "metadata": {
        "id": "view-in-github",
        "colab_type": "text"
      },
      "source": [
        "<a href=\"https://colab.research.google.com/github/Ayaj003/IR/blob/main/Assignment1.ipynb\" target=\"_parent\"><img src=\"https://colab.research.google.com/assets/colab-badge.svg\" alt=\"Open In Colab\"/></a>"
      ]
    },
    {
      "cell_type": "code",
      "execution_count": null,
      "metadata": {
        "id": "1-kW8cThAyaO"
      },
      "outputs": [],
      "source": [
        "import os\n",
        "import json\n",
        "import csv"
      ]
    },
    {
      "cell_type": "code",
      "source": [
        "document1_path = './data/document1.txt'\n",
        "document2_path = './data/document2.txt'"
      ],
      "metadata": {
        "id": "nh25nmlfBAOO"
      },
      "execution_count": null,
      "outputs": []
    },
    {
      "cell_type": "code",
      "source": [
        "with open(document1_path, 'r') as file1, open(document2_path, 'r') as file2:\n",
        "    document1 = file1.read()\n",
        "    document2 = file2.read()"
      ],
      "metadata": {
        "id": "Xu9EwvksBEDc"
      },
      "execution_count": null,
      "outputs": []
    },
    {
      "cell_type": "code",
      "source": [
        "tokens1 = [word for word in document1.split() if len(word) >= 3]\n",
        "tokens2 = [word for word in document2.split() if len(word) >= 3]"
      ],
      "metadata": {
        "id": "sHcd0fYT2GN-"
      },
      "execution_count": null,
      "outputs": []
    },
    {
      "cell_type": "code",
      "source": [
        "tokens1 = document1.lower().split()\n",
        "tokens2 = document2.lower().split()\n",
        "terms = list(set(tokens1 + tokens2))"
      ],
      "metadata": {
        "id": "EJI06XtNi98e"
      },
      "execution_count": null,
      "outputs": []
    },
    {
      "cell_type": "code",
      "source": [
        "inverted_index = {}"
      ],
      "metadata": {
        "id": "mIbYFakzBGw9"
      },
      "execution_count": null,
      "outputs": []
    },
    {
      "cell_type": "code",
      "source": [
        "for term in terms:\n",
        "    pos1 = [i for i, token in enumerate(tokens1) if token == term] #to iterate the token list while tracking the index\n",
        "    pos2 = [i for i, token in enumerate(tokens2) if token == term]\n",
        "\n",
        "    if pos1 or pos2:\n",
        "        documents = []\n",
        "        if pos1:\n",
        "            documents.append({1: pos1})\n",
        "        if pos2:\n",
        "            documents.append({2: pos2})\n",
        "\n",
        "        inverted_index[term] = [len(pos1) + len(pos2)] + documents\n"
      ],
      "metadata": {
        "id": "nFIraUg3BKb9"
      },
      "execution_count": null,
      "outputs": []
    },
    {
      "cell_type": "code",
      "source": [
        "with open('pos_inverted_index.json', 'w') as json_file:\n",
        "    json.dump(inverted_index, json_file, indent=4)"
      ],
      "metadata": {
        "id": "gIOVm1f1BQ0-"
      },
      "execution_count": null,
      "outputs": []
    },
    {
      "cell_type": "code",
      "source": [
        "mapping = {\n",
        "    1: document1_path,\n",
        "    2: document2_path\n",
        "}"
      ],
      "metadata": {
        "id": "d2rAXSGSy4n4"
      },
      "execution_count": null,
      "outputs": []
    },
    {
      "cell_type": "code",
      "source": [
        "mapping_csv_path = 'docId_filePath_mapping.csv'"
      ],
      "metadata": {
        "id": "83DiAn3bzBuY"
      },
      "execution_count": null,
      "outputs": []
    },
    {
      "cell_type": "code",
      "source": [
        "with open(mapping_csv_path, 'w', newline='') as csv_file:\n",
        "    csv_writer = csv.writer(csv_file)\n",
        "    csv_writer.writerow(['Document ID', 'File Path'])\n",
        "    for doc_id, file_path in mapping.items():\n",
        "        csv_writer.writerow([doc_id, file_path])"
      ],
      "metadata": {
        "id": "5rxdGUAZz0-H"
      },
      "execution_count": null,
      "outputs": []
    },
    {
      "cell_type": "code",
      "source": [
        "query = input(\"Search a query \").split()"
      ],
      "metadata": {
        "colab": {
          "base_uri": "https://localhost:8080/"
        },
        "id": "49bAchBP2YEi",
        "outputId": "2d33d759-b5f0-4178-d2fe-7170bfa20f97"
      },
      "execution_count": 98,
      "outputs": [
        {
          "name": "stdout",
          "output_type": "stream",
          "text": [
            "Search a query lorem\n"
          ]
        }
      ]
    },
    {
      "cell_type": "code",
      "source": [
        "matching_documents = []\n",
        "for term in query:\n",
        "    if term in inverted_index:\n",
        "        documents = inverted_index[term][1:]\n",
        "        for doc_info in documents:\n",
        "            for doc_id, positions in doc_info.items():\n",
        "                matching_documents.append(doc_id)"
      ],
      "metadata": {
        "id": "AO1EQF9m2cus"
      },
      "execution_count": 99,
      "outputs": []
    },
    {
      "cell_type": "code",
      "source": [
        "results = [mapping[doc_id] for doc_id in matching_documents]"
      ],
      "metadata": {
        "id": "Bq1pBMxj2cvw"
      },
      "execution_count": 100,
      "outputs": []
    },
    {
      "cell_type": "code",
      "source": [
        "if results:\n",
        "    for doc_path in results:\n",
        "        print(doc_path)\n",
        "else:\n",
        "    print(\"No results were found for search terms you entered\")"
      ],
      "metadata": {
        "colab": {
          "base_uri": "https://localhost:8080/"
        },
        "id": "e-cifUHQ2nny",
        "outputId": "185f619e-55eb-4f14-cf57-825ccb48e5ec"
      },
      "execution_count": 101,
      "outputs": [
        {
          "output_type": "stream",
          "name": "stdout",
          "text": [
            "./data/document1.txt\n",
            "./data/document2.txt\n"
          ]
        }
      ]
    }
  ]
}